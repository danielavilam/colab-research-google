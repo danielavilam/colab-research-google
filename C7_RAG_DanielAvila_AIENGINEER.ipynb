{
  "nbformat": 4,
  "nbformat_minor": 0,
  "metadata": {
    "colab": {
      "provenance": [],
      "include_colab_link": true
    },
    "kernelspec": {
      "name": "python3",
      "display_name": "Python 3"
    },
    "language_info": {
      "name": "python"
    }
  },
  "cells": [
    {
      "cell_type": "markdown",
      "metadata": {
        "id": "view-in-github",
        "colab_type": "text"
      },
      "source": [
        "<a href=\"https://colab.research.google.com/github/danielavilam/colab-research-google/blob/main/C7_RAG_DanielAvila_AIENGINEER.ipynb\" target=\"_parent\"><img src=\"https://colab.research.google.com/assets/colab-badge.svg\" alt=\"Open In Colab\"/></a>"
      ]
    },
    {
      "cell_type": "markdown",
      "source": [
        "# **LABORATORIO RAG - DANIEL AVILA**"
      ],
      "metadata": {
        "id": "47G7oFWLabZ_"
      }
    },
    {
      "cell_type": "markdown",
      "source": [
        "## **1. Indexing (Preparación de datos)**"
      ],
      "metadata": {
        "id": "EUwv29W8GS-V"
      }
    },
    {
      "cell_type": "markdown",
      "source": [
        "### Instalación de librerías"
      ],
      "metadata": {
        "id": "6HD5Di6IEFNU"
      }
    },
    {
      "cell_type": "code",
      "execution_count": 1,
      "metadata": {
        "colab": {
          "base_uri": "https://localhost:8080/"
        },
        "collapsed": true,
        "id": "8aYt5x6TVbzX",
        "outputId": "aa287bd0-89c0-44e8-d632-a71a237932ab"
      },
      "outputs": [
        {
          "output_type": "stream",
          "name": "stdout",
          "text": [
            "Requirement already satisfied: chromadb in /usr/local/lib/python3.12/dist-packages (1.1.0)\n",
            "Requirement already satisfied: build>=1.0.3 in /usr/local/lib/python3.12/dist-packages (from chromadb) (1.3.0)\n",
            "Requirement already satisfied: pydantic>=1.9 in /usr/local/lib/python3.12/dist-packages (from chromadb) (2.11.7)\n",
            "Requirement already satisfied: pybase64>=1.4.1 in /usr/local/lib/python3.12/dist-packages (from chromadb) (1.4.2)\n",
            "Requirement already satisfied: uvicorn>=0.18.3 in /usr/local/lib/python3.12/dist-packages (from uvicorn[standard]>=0.18.3->chromadb) (0.35.0)\n",
            "Requirement already satisfied: numpy>=1.22.5 in /usr/local/lib/python3.12/dist-packages (from chromadb) (2.0.2)\n",
            "Requirement already satisfied: posthog<6.0.0,>=2.4.0 in /usr/local/lib/python3.12/dist-packages (from chromadb) (5.4.0)\n",
            "Requirement already satisfied: typing-extensions>=4.5.0 in /usr/local/lib/python3.12/dist-packages (from chromadb) (4.15.0)\n",
            "Requirement already satisfied: onnxruntime>=1.14.1 in /usr/local/lib/python3.12/dist-packages (from chromadb) (1.22.1)\n",
            "Requirement already satisfied: opentelemetry-api>=1.2.0 in /usr/local/lib/python3.12/dist-packages (from chromadb) (1.37.0)\n",
            "Requirement already satisfied: opentelemetry-exporter-otlp-proto-grpc>=1.2.0 in /usr/local/lib/python3.12/dist-packages (from chromadb) (1.37.0)\n",
            "Requirement already satisfied: opentelemetry-sdk>=1.2.0 in /usr/local/lib/python3.12/dist-packages (from chromadb) (1.37.0)\n",
            "Requirement already satisfied: tokenizers>=0.13.2 in /usr/local/lib/python3.12/dist-packages (from chromadb) (0.22.0)\n",
            "Requirement already satisfied: pypika>=0.48.9 in /usr/local/lib/python3.12/dist-packages (from chromadb) (0.48.9)\n",
            "Requirement already satisfied: tqdm>=4.65.0 in /usr/local/lib/python3.12/dist-packages (from chromadb) (4.67.1)\n",
            "Requirement already satisfied: overrides>=7.3.1 in /usr/local/lib/python3.12/dist-packages (from chromadb) (7.7.0)\n",
            "Requirement already satisfied: importlib-resources in /usr/local/lib/python3.12/dist-packages (from chromadb) (6.5.2)\n",
            "Requirement already satisfied: grpcio>=1.58.0 in /usr/local/lib/python3.12/dist-packages (from chromadb) (1.74.0)\n",
            "Requirement already satisfied: bcrypt>=4.0.1 in /usr/local/lib/python3.12/dist-packages (from chromadb) (4.3.0)\n",
            "Requirement already satisfied: typer>=0.9.0 in /usr/local/lib/python3.12/dist-packages (from chromadb) (0.17.4)\n",
            "Requirement already satisfied: kubernetes>=28.1.0 in /usr/local/lib/python3.12/dist-packages (from chromadb) (33.1.0)\n",
            "Requirement already satisfied: tenacity>=8.2.3 in /usr/local/lib/python3.12/dist-packages (from chromadb) (8.5.0)\n",
            "Requirement already satisfied: pyyaml>=6.0.0 in /usr/local/lib/python3.12/dist-packages (from chromadb) (6.0.2)\n",
            "Requirement already satisfied: mmh3>=4.0.1 in /usr/local/lib/python3.12/dist-packages (from chromadb) (5.2.0)\n",
            "Requirement already satisfied: orjson>=3.9.12 in /usr/local/lib/python3.12/dist-packages (from chromadb) (3.11.3)\n",
            "Requirement already satisfied: httpx>=0.27.0 in /usr/local/lib/python3.12/dist-packages (from chromadb) (0.28.1)\n",
            "Requirement already satisfied: rich>=10.11.0 in /usr/local/lib/python3.12/dist-packages (from chromadb) (13.9.4)\n",
            "Requirement already satisfied: jsonschema>=4.19.0 in /usr/local/lib/python3.12/dist-packages (from chromadb) (4.25.1)\n",
            "Requirement already satisfied: packaging>=19.1 in /usr/local/lib/python3.12/dist-packages (from build>=1.0.3->chromadb) (25.0)\n",
            "Requirement already satisfied: pyproject_hooks in /usr/local/lib/python3.12/dist-packages (from build>=1.0.3->chromadb) (1.2.0)\n",
            "Requirement already satisfied: anyio in /usr/local/lib/python3.12/dist-packages (from httpx>=0.27.0->chromadb) (4.10.0)\n",
            "Requirement already satisfied: certifi in /usr/local/lib/python3.12/dist-packages (from httpx>=0.27.0->chromadb) (2025.8.3)\n",
            "Requirement already satisfied: httpcore==1.* in /usr/local/lib/python3.12/dist-packages (from httpx>=0.27.0->chromadb) (1.0.9)\n",
            "Requirement already satisfied: idna in /usr/local/lib/python3.12/dist-packages (from httpx>=0.27.0->chromadb) (3.10)\n",
            "Requirement already satisfied: h11>=0.16 in /usr/local/lib/python3.12/dist-packages (from httpcore==1.*->httpx>=0.27.0->chromadb) (0.16.0)\n",
            "Requirement already satisfied: attrs>=22.2.0 in /usr/local/lib/python3.12/dist-packages (from jsonschema>=4.19.0->chromadb) (25.3.0)\n",
            "Requirement already satisfied: jsonschema-specifications>=2023.03.6 in /usr/local/lib/python3.12/dist-packages (from jsonschema>=4.19.0->chromadb) (2025.9.1)\n",
            "Requirement already satisfied: referencing>=0.28.4 in /usr/local/lib/python3.12/dist-packages (from jsonschema>=4.19.0->chromadb) (0.36.2)\n",
            "Requirement already satisfied: rpds-py>=0.7.1 in /usr/local/lib/python3.12/dist-packages (from jsonschema>=4.19.0->chromadb) (0.27.1)\n",
            "Requirement already satisfied: six>=1.9.0 in /usr/local/lib/python3.12/dist-packages (from kubernetes>=28.1.0->chromadb) (1.17.0)\n",
            "Requirement already satisfied: python-dateutil>=2.5.3 in /usr/local/lib/python3.12/dist-packages (from kubernetes>=28.1.0->chromadb) (2.9.0.post0)\n",
            "Requirement already satisfied: google-auth>=1.0.1 in /usr/local/lib/python3.12/dist-packages (from kubernetes>=28.1.0->chromadb) (2.38.0)\n",
            "Requirement already satisfied: websocket-client!=0.40.0,!=0.41.*,!=0.42.*,>=0.32.0 in /usr/local/lib/python3.12/dist-packages (from kubernetes>=28.1.0->chromadb) (1.8.0)\n",
            "Requirement already satisfied: requests in /usr/local/lib/python3.12/dist-packages (from kubernetes>=28.1.0->chromadb) (2.32.4)\n",
            "Requirement already satisfied: requests-oauthlib in /usr/local/lib/python3.12/dist-packages (from kubernetes>=28.1.0->chromadb) (2.0.0)\n",
            "Requirement already satisfied: oauthlib>=3.2.2 in /usr/local/lib/python3.12/dist-packages (from kubernetes>=28.1.0->chromadb) (3.3.1)\n",
            "Requirement already satisfied: urllib3>=1.24.2 in /usr/local/lib/python3.12/dist-packages (from kubernetes>=28.1.0->chromadb) (2.5.0)\n",
            "Requirement already satisfied: durationpy>=0.7 in /usr/local/lib/python3.12/dist-packages (from kubernetes>=28.1.0->chromadb) (0.10)\n",
            "Requirement already satisfied: coloredlogs in /usr/local/lib/python3.12/dist-packages (from onnxruntime>=1.14.1->chromadb) (15.0.1)\n",
            "Requirement already satisfied: flatbuffers in /usr/local/lib/python3.12/dist-packages (from onnxruntime>=1.14.1->chromadb) (25.2.10)\n",
            "Requirement already satisfied: protobuf in /usr/local/lib/python3.12/dist-packages (from onnxruntime>=1.14.1->chromadb) (5.29.5)\n",
            "Requirement already satisfied: sympy in /usr/local/lib/python3.12/dist-packages (from onnxruntime>=1.14.1->chromadb) (1.13.3)\n",
            "Requirement already satisfied: importlib-metadata<8.8.0,>=6.0 in /usr/local/lib/python3.12/dist-packages (from opentelemetry-api>=1.2.0->chromadb) (8.7.0)\n",
            "Requirement already satisfied: googleapis-common-protos~=1.57 in /usr/local/lib/python3.12/dist-packages (from opentelemetry-exporter-otlp-proto-grpc>=1.2.0->chromadb) (1.70.0)\n",
            "Requirement already satisfied: opentelemetry-exporter-otlp-proto-common==1.37.0 in /usr/local/lib/python3.12/dist-packages (from opentelemetry-exporter-otlp-proto-grpc>=1.2.0->chromadb) (1.37.0)\n",
            "Requirement already satisfied: opentelemetry-proto==1.37.0 in /usr/local/lib/python3.12/dist-packages (from opentelemetry-exporter-otlp-proto-grpc>=1.2.0->chromadb) (1.37.0)\n",
            "Requirement already satisfied: opentelemetry-semantic-conventions==0.58b0 in /usr/local/lib/python3.12/dist-packages (from opentelemetry-sdk>=1.2.0->chromadb) (0.58b0)\n",
            "Requirement already satisfied: backoff>=1.10.0 in /usr/local/lib/python3.12/dist-packages (from posthog<6.0.0,>=2.4.0->chromadb) (2.2.1)\n",
            "Requirement already satisfied: distro>=1.5.0 in /usr/local/lib/python3.12/dist-packages (from posthog<6.0.0,>=2.4.0->chromadb) (1.9.0)\n",
            "Requirement already satisfied: annotated-types>=0.6.0 in /usr/local/lib/python3.12/dist-packages (from pydantic>=1.9->chromadb) (0.7.0)\n",
            "Requirement already satisfied: pydantic-core==2.33.2 in /usr/local/lib/python3.12/dist-packages (from pydantic>=1.9->chromadb) (2.33.2)\n",
            "Requirement already satisfied: typing-inspection>=0.4.0 in /usr/local/lib/python3.12/dist-packages (from pydantic>=1.9->chromadb) (0.4.1)\n",
            "Requirement already satisfied: markdown-it-py>=2.2.0 in /usr/local/lib/python3.12/dist-packages (from rich>=10.11.0->chromadb) (4.0.0)\n",
            "Requirement already satisfied: pygments<3.0.0,>=2.13.0 in /usr/local/lib/python3.12/dist-packages (from rich>=10.11.0->chromadb) (2.19.2)\n",
            "Requirement already satisfied: huggingface-hub<1.0,>=0.16.4 in /usr/local/lib/python3.12/dist-packages (from tokenizers>=0.13.2->chromadb) (0.34.4)\n",
            "Requirement already satisfied: click>=8.0.0 in /usr/local/lib/python3.12/dist-packages (from typer>=0.9.0->chromadb) (8.2.1)\n",
            "Requirement already satisfied: shellingham>=1.3.0 in /usr/local/lib/python3.12/dist-packages (from typer>=0.9.0->chromadb) (1.5.4)\n",
            "Requirement already satisfied: httptools>=0.6.3 in /usr/local/lib/python3.12/dist-packages (from uvicorn[standard]>=0.18.3->chromadb) (0.6.4)\n",
            "Requirement already satisfied: python-dotenv>=0.13 in /usr/local/lib/python3.12/dist-packages (from uvicorn[standard]>=0.18.3->chromadb) (1.1.1)\n",
            "Requirement already satisfied: uvloop>=0.15.1 in /usr/local/lib/python3.12/dist-packages (from uvicorn[standard]>=0.18.3->chromadb) (0.21.0)\n",
            "Requirement already satisfied: watchfiles>=0.13 in /usr/local/lib/python3.12/dist-packages (from uvicorn[standard]>=0.18.3->chromadb) (1.1.0)\n",
            "Requirement already satisfied: websockets>=10.4 in /usr/local/lib/python3.12/dist-packages (from uvicorn[standard]>=0.18.3->chromadb) (15.0.1)\n",
            "Requirement already satisfied: cachetools<6.0,>=2.0.0 in /usr/local/lib/python3.12/dist-packages (from google-auth>=1.0.1->kubernetes>=28.1.0->chromadb) (5.5.2)\n",
            "Requirement already satisfied: pyasn1-modules>=0.2.1 in /usr/local/lib/python3.12/dist-packages (from google-auth>=1.0.1->kubernetes>=28.1.0->chromadb) (0.4.2)\n",
            "Requirement already satisfied: rsa<5,>=3.1.4 in /usr/local/lib/python3.12/dist-packages (from google-auth>=1.0.1->kubernetes>=28.1.0->chromadb) (4.9.1)\n",
            "Requirement already satisfied: filelock in /usr/local/lib/python3.12/dist-packages (from huggingface-hub<1.0,>=0.16.4->tokenizers>=0.13.2->chromadb) (3.19.1)\n",
            "Requirement already satisfied: fsspec>=2023.5.0 in /usr/local/lib/python3.12/dist-packages (from huggingface-hub<1.0,>=0.16.4->tokenizers>=0.13.2->chromadb) (2025.3.0)\n",
            "Requirement already satisfied: hf-xet<2.0.0,>=1.1.3 in /usr/local/lib/python3.12/dist-packages (from huggingface-hub<1.0,>=0.16.4->tokenizers>=0.13.2->chromadb) (1.1.9)\n",
            "Requirement already satisfied: zipp>=3.20 in /usr/local/lib/python3.12/dist-packages (from importlib-metadata<8.8.0,>=6.0->opentelemetry-api>=1.2.0->chromadb) (3.23.0)\n",
            "Requirement already satisfied: mdurl~=0.1 in /usr/local/lib/python3.12/dist-packages (from markdown-it-py>=2.2.0->rich>=10.11.0->chromadb) (0.1.2)\n",
            "Requirement already satisfied: charset_normalizer<4,>=2 in /usr/local/lib/python3.12/dist-packages (from requests->kubernetes>=28.1.0->chromadb) (3.4.3)\n",
            "Requirement already satisfied: sniffio>=1.1 in /usr/local/lib/python3.12/dist-packages (from anyio->httpx>=0.27.0->chromadb) (1.3.1)\n",
            "Requirement already satisfied: humanfriendly>=9.1 in /usr/local/lib/python3.12/dist-packages (from coloredlogs->onnxruntime>=1.14.1->chromadb) (10.0)\n",
            "Requirement already satisfied: mpmath<1.4,>=1.1.0 in /usr/local/lib/python3.12/dist-packages (from sympy->onnxruntime>=1.14.1->chromadb) (1.3.0)\n",
            "Requirement already satisfied: pyasn1<0.7.0,>=0.6.1 in /usr/local/lib/python3.12/dist-packages (from pyasn1-modules>=0.2.1->google-auth>=1.0.1->kubernetes>=28.1.0->chromadb) (0.6.1)\n",
            "Requirement already satisfied: pandas in /usr/local/lib/python3.12/dist-packages (2.2.2)\n",
            "Requirement already satisfied: numpy>=1.26.0 in /usr/local/lib/python3.12/dist-packages (from pandas) (2.0.2)\n",
            "Requirement already satisfied: python-dateutil>=2.8.2 in /usr/local/lib/python3.12/dist-packages (from pandas) (2.9.0.post0)\n",
            "Requirement already satisfied: pytz>=2020.1 in /usr/local/lib/python3.12/dist-packages (from pandas) (2025.2)\n",
            "Requirement already satisfied: tzdata>=2022.7 in /usr/local/lib/python3.12/dist-packages (from pandas) (2025.2)\n",
            "Requirement already satisfied: six>=1.5 in /usr/local/lib/python3.12/dist-packages (from python-dateutil>=2.8.2->pandas) (1.17.0)\n"
          ]
        }
      ],
      "source": [
        "# chromadb → Es la base de datos vectorial donde guardaremos nuestros documentos transformados en vectores\n",
        "# pandas → Sirve para manejar datos en tablas y facilitar análisis\n",
        "\n",
        "!pip install chromadb\n",
        "!pip install pandas"
      ]
    },
    {
      "cell_type": "code",
      "source": [
        "#  Importación de librerías\n",
        "from google import genai\n",
        "from google.genai import types\n",
        "from google.colab import userdata #from dotenv import load_dotenv\n",
        "from google.api_core import retry\n",
        "\n",
        "# Utilidades adicionales\n",
        "import pandas as pd\n",
        "import os\n",
        "import re\n",
        "\n",
        "# Librerías de ChromaDB\n",
        "from chromadb import Documents, EmbeddingFunction, Embeddings\n",
        "from chromadb import Client\n",
        "\n",
        "# Visualización en Colab\n",
        "from IPython.display import Markdown"
      ],
      "metadata": {
        "id": "aXjLFCFgXqM-"
      },
      "execution_count": 2,
      "outputs": []
    },
    {
      "cell_type": "markdown",
      "source": [
        "### **Configuración de Gemini y modelos embedding**\n",
        "\n",
        "En la barra lateral izquierda (ícono de la llave), inserta tu API Key con el nombre GEMINI_API_KEY, previamente generado en https://aistudio.google.com/"
      ],
      "metadata": {
        "id": "sgbMyiN1X1jW"
      }
    },
    {
      "cell_type": "code",
      "source": [
        "GEMINI_API_KEY = userdata.get(\"GEMINI_API_KEY\")"
      ],
      "metadata": {
        "id": "ZFNvglhlX1Vx"
      },
      "execution_count": 3,
      "outputs": []
    },
    {
      "cell_type": "markdown",
      "source": [
        "Con la variable client se crea la conexión con Gemini de Google.\n",
        "Luego, usando este cliente, puedes listar los modelos disponibles.\n",
        "El filtro embedContent permite mostrar únicamente los modelos que soportan la creación de embeddings."
      ],
      "metadata": {
        "id": "LUmXD_eIY5V2"
      }
    },
    {
      "cell_type": "code",
      "source": [
        "client = genai.Client(api_key=GEMINI_API_KEY)\n",
        "\n",
        "for m in client.models.list():\n",
        "    if \"embedContent\" in m.supported_actions:\n",
        "        print(m.name)\n"
      ],
      "metadata": {
        "colab": {
          "base_uri": "https://localhost:8080/"
        },
        "id": "MpPCwbKxY7QY",
        "outputId": "6d6875db-1a37-4fcf-8ad9-bce387779416"
      },
      "execution_count": 4,
      "outputs": [
        {
          "output_type": "stream",
          "name": "stdout",
          "text": [
            "models/embedding-001\n",
            "models/text-embedding-004\n",
            "models/gemini-embedding-exp-03-07\n",
            "models/gemini-embedding-exp\n",
            "models/gemini-embedding-001\n"
          ]
        }
      ]
    },
    {
      "cell_type": "markdown",
      "source": [
        "### **Definición de documentos de prueba**\n",
        "\n",
        "En este paso definimos textos de ejemplo que representarán documentos dentro de nuestra base de datos vectorial.\n",
        "Estos servirán para realizar búsquedas y probar cómo el modelo recupera y utiliza la información.\n",
        "\n",
        "En un entorno real, estos documentos podrían ser reemplazados por información proveniente de archivos PDF, JSON, páginas web o datos empresariales."
      ],
      "metadata": {
        "id": "gpZzvr70ZBS2"
      }
    },
    {
      "cell_type": "code",
      "source": [
        "# Documentos de ejemplo\n",
        "\n",
        "# Lista de documentos que se almacenarán en la base vectorial\n",
        "doc_1 = \"\"\"En el 2015, el 21,77% de la población peruana vivía en situación de pobreza monetaria, lo que equivale a aproximadamente 6.782.000 personas, según el Instituto Nacional de Estadística e Informática (INEI). Este porcentaje representó una disminución de 1 punto porcentual respecto al año anterior, haciendo que 221 mil peruanos dejaran de ser pobres. La reducción de la pobreza se observó más en las regiones de Selva y Sierra, especialmente en la Selva urbana y Sierra rural.\"\"\"\n",
        "\n",
        "doc_2 = \"\"\"En el año 2020, la pobreza monetaria en Perú afectó al 30.1% de la población, lo que representó un incremento significativo de 9.9 puntos porcentuales respecto al año 2019. Esta cifra marcó un pico de pobreza, siendo el año 2020 el que alcanzó el nivel más alto desde el año 2010, debido a la fuerte crisis sanitaria provocada por la pandemia de COVID-19.\"\"\"\n",
        "\n",
        "doc_3 = \"\"\"En el Perú, la pobreza monetaria en 2024 afectó al 27.6% de la población, lo que equivale a 9.395 millones de personas, según el INEI. Esta cifra representa una disminución de 1.4 puntos porcentuales respecto a 2023, mostrando una leve mejora, aunque los niveles aún están lejos de los registrados antes de la pandemia. La pobreza extrema, por su parte, se ubicó en 5.5% en 2024, también con una leve reducción.\"\"\"\n",
        "\n",
        "doc_4 = \"\"\"Toda la informacion brindada solo se aplica para el Peru\"\"\"\n",
        "\n",
        "documents = [doc_1, doc_2, doc_3, doc_4]"
      ],
      "metadata": {
        "id": "UoMjMjAcZEjV"
      },
      "execution_count": 5,
      "outputs": []
    },
    {
      "cell_type": "markdown",
      "source": [
        "### **Clase de Embedding**\n",
        "\n",
        "Esta clase de Python encapsula la generación de embeddings usando Gemini.\n",
        "Trabaja en dos modos:\n",
        "\n",
        "- document_mode = True → genera embeddings para documentos (fase de Indexing).\n",
        "- document_mode = False → genera embeddings para consultas (fase de Retrieval).\n",
        "\n",
        "El método __call__ detecta el modo y solicita a Gemini el vector adecuado (retrieval_document o retrieval_query).\n",
        "Devuelve una lista de vectores (uno por elemento de entrada) lista para guardarse en la base vectorial o para hacer búsquedas."
      ],
      "metadata": {
        "id": "7P5SbWu-ZIOZ"
      }
    },
    {
      "cell_type": "code",
      "source": [
        "class EmbeddingGenerator(EmbeddingFunction):\n",
        "    # Modo de operación por defecto:\n",
        "    # True  -> generar embeddings para DOCUMENTOS (Indexing)\n",
        "    # False -> generar embeddings para CONSULTAS (Retrieval)\n",
        "    document_mode = True\n",
        "\n",
        "    def __call__(self, input: Documents) -> Embeddings:\n",
        "        if self.document_mode:\n",
        "            embedding_task = \"retrieval_document\"\n",
        "        else:\n",
        "            embedding_task = \"retrieval_query\"\n",
        "\n",
        "        # Llamada al endpoint de embeddings de Gemini\n",
        "        # - model:          familia de modelos de embeddings\n",
        "        # - contents:       lista de textos a vectorizar (Documents o Queries)\n",
        "        # - task_type:      le indica al modelo el contexto del embedding (document/query)\n",
        "\n",
        "        response = client.models.embed_content(\n",
        "            model=\"models/text-embedding-004\",\n",
        "            contents=input,\n",
        "            config=types.EmbedContentConfig(\n",
        "                task_type=embedding_task,\n",
        "            ),\n",
        "        )\n",
        "\n",
        "        # Normaliza la salida: extrae los vectores (lista de floats) por cada item\n",
        "        return [e.values for e in response.embeddings]"
      ],
      "metadata": {
        "id": "mext_gbeZJ9N"
      },
      "execution_count": 6,
      "outputs": []
    },
    {
      "cell_type": "markdown",
      "source": [
        "### **Crear la Base Vectorial en ChromaDB**\n",
        "\n",
        "En esta etapa inicializamos una base de datos vectorial utilizando ChromaDB.\n",
        "Aquí insertamos los documentos previamente definidos, los cuales se transforman en vectores mediante la clase EmbeddingGenerator.\n",
        "\n",
        "De esta forma, los documentos quedan listos para ser buscados de manera semántica y eficiente durante la fase de Retrieval."
      ],
      "metadata": {
        "id": "rYmegvrjZNUS"
      }
    },
    {
      "cell_type": "code",
      "source": [
        "# Nombre de la colección dentro de ChromaDB\n",
        "DB_NAME = \"testdb\"\n",
        "\n",
        "# Creamos una instancia de la función de embeddings\n",
        "embed_fn = EmbeddingGenerator()\n",
        "\n",
        "# Modo documento -> genera embeddings para INDEXING\n",
        "embed_fn.document_mode = True\n",
        "\n",
        "# Inicializamos el cliente de ChromaDB\n",
        "chroma_client = Client()\n",
        "\n",
        "# Creamos una colección en la base vectorial\n",
        "vector_db  = chroma_client.get_or_create_collection(name=DB_NAME, embedding_function=embed_fn)\n",
        "\n",
        "# Agregamos los documentos a la colección\n",
        "vector_db.add(documents=documents,\n",
        "       ids=[str(i) for i in range(len(documents))]\n",
        "    )"
      ],
      "metadata": {
        "colab": {
          "base_uri": "https://localhost:8080/"
        },
        "id": "tsFdSMBJZRIu",
        "outputId": "727c65e0-bea9-4680-f373-1d0cad68ceee"
      },
      "execution_count": 7,
      "outputs": [
        {
          "output_type": "stream",
          "name": "stderr",
          "text": [
            "/tmp/ipython-input-91028937.py:5: DeprecationWarning: The class EmbeddingGenerator does not implement __init__. This will be required in a future version.\n",
            "  embed_fn = EmbeddingGenerator()\n"
          ]
        }
      ]
    },
    {
      "cell_type": "code",
      "source": [
        "# Verificamos que se hayan insertado correctamente\n",
        "vector_db.count()   # Devuelve el número de documentos almacenados"
      ],
      "metadata": {
        "colab": {
          "base_uri": "https://localhost:8080/"
        },
        "id": "rONnIdHcZaKj",
        "outputId": "7ba7e580-c03e-4af0-e3f7-b14196fdc441"
      },
      "execution_count": 8,
      "outputs": [
        {
          "output_type": "execute_result",
          "data": {
            "text/plain": [
              "4"
            ]
          },
          "metadata": {},
          "execution_count": 8
        }
      ]
    },
    {
      "cell_type": "markdown",
      "source": [
        "## **2. Retrieval (Recuperación de información)**"
      ],
      "metadata": {
        "id": "0erjIC6VZbvq"
      }
    },
    {
      "cell_type": "markdown",
      "source": [
        "En esta etapa pasamos de trabajar con documentos a trabajar con consultas del usuario.\n",
        "Para lograrlo, cambiamos el modo de embeddings a False, lo que indica que ahora el sistema debe generar un vector a partir de la pregunta en lugar de un documento.\n",
        "\n",
        "Ese vector de la consulta se compara contra la base de datos vectorial (ChromaDB) y devuelve los fragmentos más relevantes según su similitud semántica."
      ],
      "metadata": {
        "id": "3I55GezsPC6N"
      }
    },
    {
      "cell_type": "code",
      "source": [
        "# Cambiamos a modo \"consulta\" para generar embeddings de la QUERY del usuario\n",
        "embed_fn.document_mode = False\n",
        "\n",
        "# Definimos la pregunta del usuario\n",
        "#user_query = \"En cuánto aumentó el salario mínimo vital en Perú, en 2025, con respecto al 2024\"\n",
        "user_query = \"En qué año se registra el menor índice de pobreza en Perú?\"\n",
        "\n",
        "# Realizamos la búsqueda en la base vectorial\n",
        "# - query_texts: la consulta en formato texto\n",
        "# - n_results: número de fragmentos más similares que queremos recuperar (Top-K)\n",
        "search_results  = vector_db.query(query_texts=[user_query], n_results=3)\n",
        "\n",
        "# Extraemos los documentos recuperados\n",
        "[retrieved_passages] = search_results [\"documents\"]\n",
        "\n",
        "# Mostramos el primer fragmento recuperado en formato Markdown\n",
        "Markdown(retrieved_passages [0])"
      ],
      "metadata": {
        "colab": {
          "base_uri": "https://localhost:8080/",
          "height": 81
        },
        "id": "4SQndujvZfzn",
        "outputId": "3e0475e9-9e58-4c3b-f81e-66f0862667db"
      },
      "execution_count": 9,
      "outputs": [
        {
          "output_type": "execute_result",
          "data": {
            "text/plain": [
              "<IPython.core.display.Markdown object>"
            ],
            "text/markdown": "En el año 2020, la pobreza monetaria en Perú afectó al 30.1% de la población, lo que representó un incremento significativo de 9.9 puntos porcentuales respecto al año 2019. Esta cifra marcó un pico de pobreza, siendo el año 2020 el que alcanzó el nivel más alto desde el año 2010, debido a la fuerte crisis sanitaria provocada por la pandemia de COVID-19."
          },
          "metadata": {},
          "execution_count": 9
        }
      ]
    },
    {
      "cell_type": "markdown",
      "source": [
        "## **3. Augmented Generation (Generación enriquecida)**"
      ],
      "metadata": {
        "id": "65e7No-SINDM"
      }
    },
    {
      "cell_type": "markdown",
      "source": [
        "En esta fase generamos el prompt final que será enviado al modelo de lenguaje. El prompt combina:\n",
        "1. La pregunta del usuario\n",
        "2. Los fragmentos de documentos relevantes obtenidos en la fase de Retrieval.\n",
        "\n",
        "Esto permite que el modelo responda no solo con su conocimiento entrenado, sino también con información actualizada de nuestra base vectorial."
      ],
      "metadata": {
        "id": "g4wJV7R_ZiCS"
      }
    },
    {
      "cell_type": "code",
      "source": [
        "# Preparamos la consulta del usuario en una sola línea (eliminamos saltos de línea)\n",
        "user_query_clean  = user_query.replace(\"\\n\", \" \")\n",
        "\n",
        "# Construimos el prompt inicial del asistente\n",
        "# - Se le indica al modelo que actúe como un asistente accesible y claro.\n",
        "# - Incluimos la pregunta del usuario.\n",
        "prompt = f\"\"\" Eres un asistente inteligente diseñado para brindar información\n",
        "utilizando los documentos proporcionados como base. Tu tarea es responder las preguntas de forma completa, utilizando un lenguaje accesible y\n",
        "amigable, dirigido a personas no técnicas.\n",
        "\n",
        "PREGUNTAS: {user_query_clean}\n",
        "\"\"\"\n",
        "\n",
        "# Añadimos al prompt los documentos recuperados en la fase de Retrieval\n",
        "for passage in retrieved_passages:\n",
        "    passage_oneline = passage.replace(\"\\n\", \" \")\n",
        "    prompt += f\"DOCUMENTO: {passage_oneline}\\n\"\n",
        "\n",
        "# Mostramos el prompt final en formato Markdown\n",
        "Markdown(prompt)"
      ],
      "metadata": {
        "colab": {
          "base_uri": "https://localhost:8080/",
          "height": 226
        },
        "id": "uWZgNzOvZkm_",
        "outputId": "51854789-4b8d-4bc5-f097-b16c38828f4e"
      },
      "execution_count": 10,
      "outputs": [
        {
          "output_type": "execute_result",
          "data": {
            "text/plain": [
              "<IPython.core.display.Markdown object>"
            ],
            "text/markdown": " Eres un asistente inteligente diseñado para brindar información\nutilizando los documentos proporcionados como base. Tu tarea es responder las preguntas de forma completa, utilizando un lenguaje accesible y\namigable, dirigido a personas no técnicas.\n\nPREGUNTAS: En qué año se registra el menor índice de pobreza en Perú?\nDOCUMENTO: En el año 2020, la pobreza monetaria en Perú afectó al 30.1% de la población, lo que representó un incremento significativo de 9.9 puntos porcentuales respecto al año 2019. Esta cifra marcó un pico de pobreza, siendo el año 2020 el que alcanzó el nivel más alto desde el año 2010, debido a la fuerte crisis sanitaria provocada por la pandemia de COVID-19.\nDOCUMENTO: En el 2015, el 21,77% de la población peruana vivía en situación de pobreza monetaria, lo que equivale a aproximadamente 6.782.000 personas, según el Instituto Nacional de Estadística e Informática (INEI). Este porcentaje representó una disminución de 1 punto porcentual respecto al año anterior, haciendo que 221 mil peruanos dejaran de ser pobres. La reducción de la pobreza se observó más en las regiones de Selva y Sierra, especialmente en la Selva urbana y Sierra rural.\nDOCUMENTO: En el Perú, la pobreza monetaria en 2024 afectó al 27.6% de la población, lo que equivale a 9.395 millones de personas, según el INEI. Esta cifra representa una disminución de 1.4 puntos porcentuales respecto a 2023, mostrando una leve mejora, aunque los niveles aún están lejos de los registrados antes de la pandemia. La pobreza extrema, por su parte, se ubicó en 5.5% en 2024, también con una leve reducción.\n"
          },
          "metadata": {},
          "execution_count": 10
        }
      ]
    },
    {
      "cell_type": "markdown",
      "source": [
        "En esta etapa enviamos el prompt enriquecido al modelo de lenguaje (Gemini) para obtener la respuesta final."
      ],
      "metadata": {
        "id": "UbNX5x_O8nq9"
      }
    },
    {
      "cell_type": "code",
      "source": [
        "# Generamos la respuesta final del modelo usando el prompt enriquecido\n",
        "final_answer  = client.models.generate_content(\n",
        "    model=\"gemini-2.0-flash-lite\",\n",
        "    contents=prompt\n",
        "    )\n",
        "\n",
        "# Mostramos la respuesta en formato Markdown\n",
        "Markdown(final_answer.text)"
      ],
      "metadata": {
        "colab": {
          "base_uri": "https://localhost:8080/",
          "height": 64
        },
        "id": "uaSqEigW8q_O",
        "outputId": "75cbd339-5ee8-437e-e3d8-d1bc0b677504"
      },
      "execution_count": 11,
      "outputs": [
        {
          "output_type": "execute_result",
          "data": {
            "text/plain": [
              "<IPython.core.display.Markdown object>"
            ],
            "text/markdown": "Según la información que tengo, el año con el menor índice de pobreza en Perú es el 2015. En ese año, el 21.77% de la población se encontraba en situación de pobreza.\n"
          },
          "metadata": {},
          "execution_count": 11
        }
      ]
    },
    {
      "cell_type": "markdown",
      "source": [],
      "metadata": {
        "id": "1QRbMj628sdE"
      }
    }
  ]
}